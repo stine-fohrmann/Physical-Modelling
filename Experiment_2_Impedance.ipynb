{
 "cells": [
  {
   "cell_type": "markdown",
   "metadata": {},
   "source": [
    "# Code for Experiment 2 - Measuring Impedance"
   ]
  },
  {
   "cell_type": "code",
   "execution_count": 2,
   "metadata": {},
   "outputs": [],
   "source": [
    "# dependencies\n",
    "import matplotlib.pyplot as plt\n",
    "import numpy as np"
   ]
  },
  {
   "cell_type": "markdown",
   "metadata": {},
   "source": [
    "## Data Analysis"
   ]
  },
  {
   "cell_type": "code",
   "execution_count": 40,
   "metadata": {},
   "outputs": [
    {
     "name": "stdout",
     "output_type": "stream",
     "text": [
      "-1.5682830526720246\n",
      "Z_hat_real = [49.091620710589645, 48.01258133905981, 47.286553068591985, 60.33046087028441, 54.07195870338114], 5\n"
     ]
    },
    {
     "data": {
      "image/png": "[encoded data removed]",
      "text/plain": [
       "<Figure size 432x288 with 1 Axes>"
      ]
     },
     "metadata": {
      "needs_background": "light"
     },
     "output_type": "display_data"
    }
   ],
   "source": [
    "# complex unit\n",
    "i = 1j\n",
    "\n",
    "# Data - Inductor\n",
    "f = [1, 2, 4, 8, 16] # frequency in kHz\n",
    "R = 10           # resistance in ohm\n",
    "U_0_values = [3.5, 4.2, 4.7, 4.9, 5.0]                    # voltage over inductor and resistor in V\n",
    "V_0_values = [4e-1, 3e-1, 1.84e-1, 0.96e-1, 0.49e-1] # voltage over resistor in V\n",
    "T = [1, 0.5, 0.25, 0.125, 0.0625]       # period in ms\n",
    "T = [element * 10**-3 for element in T] # convert to s\n",
    "peak_U_values = [252, 125, 62.5, 31.5, 15.6] # peak position in µs\n",
    "peak_V_values = [384, 216, 116, 60, 30.6]    # peak position in µs\n",
    "peak_U_values = [element * 10**-6 for element in peak_U_values] # convert to s\n",
    "peak_V_values = [element * 10**-6 for element in peak_V_values] # convert to s\n",
    "\n",
    "phi_U_values = [-peak / T *2*np.pi for peak, T in zip(peak_U_values, T)]\n",
    "phi_V_values = [-peak / T *2*np.pi for peak, T in zip(peak_V_values, T)]\n",
    "\n",
    "print(phi_U)\n",
    "# print(phi_V)\n",
    "\n",
    "# equations\n",
    "# U_hat = U_0 * np.exp(i*phi_U)\n",
    "# V_hat = V_0 * np.exp(i*phi_V)\n",
    "# Z_hat = (U_hat/I_hat - 1) * R = (U_0/V_0 * np.exp(i(phi_U - phi_V)) - 1)*R\n",
    "\n",
    "# Calculate Z\n",
    "Z_hat = [(U_0/V_0 * np.exp(i*(phi_U - phi_V)) - 1)*R for U_0, V_0, phi_U, phi_V in zip(U_0_values, V_0_values, phi_U_values, phi_V_values)]\n",
    "Z_hat_real = [z.real for z in Z_hat]\n",
    "print(f'Z_hat_real = {Z_hat_real}, {len(Z_hat_real)}')\n",
    "\n",
    "# plot Z_hat against f\n",
    "plt.plot(f, Z_hat_real, '.')\n",
    "plt.title('Impedance of an inductor')\n",
    "plt.xlabel('$f$ in kHz')\n",
    "plt.ylabel('$Z$')\n",
    "plt.show()\n"
   ]
  },
  {
   "cell_type": "code",
   "execution_count": null,
   "metadata": {},
   "outputs": [],
   "source": []
  }
 ],
 "metadata": {
  "kernelspec": {
   "display_name": "Python 3",
   "language": "python",
   "name": "python3"
  },
  "language_info": {
   "codemirror_mode": {
    "name": "ipython",
    "version": 3
   },
   "file_extension": ".py",
   "mimetype": "text/x-python",
   "name": "python",
   "nbconvert_exporter": "python",
   "pygments_lexer": "ipython3",
   "version": "3.7.3"
  }
 },
 "nbformat": 4,
 "nbformat_minor": 2
}
