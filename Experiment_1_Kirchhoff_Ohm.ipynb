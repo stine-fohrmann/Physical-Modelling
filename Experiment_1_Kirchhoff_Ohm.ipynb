{
 "cells": [
  {
   "cell_type": "markdown",
   "metadata": {},
   "source": [
    "# Code for Experiment 1 - Kirchhoff's laws and Ohm's law"
   ]
  },
  {
   "cell_type": "code",
   "execution_count": 2,
   "metadata": {},
   "outputs": [],
   "source": [
    "# dependencies\n",
    "import matplotlib.pyplot as plt\n",
    "import numpy as np"
   ]
  },
  {
   "cell_type": "markdown",
   "metadata": {},
   "source": [
    "## Part 1 - A non-trivial circuit\n",
    "\n",
    "### Calculating branch currents"
   ]
  },
  {
   "cell_type": "code",
   "execution_count": 17,
   "metadata": {},
   "outputs": [
    {
     "name": "stdout",
     "output_type": "stream",
     "text": [
      "I_0 = 0.01566926345609065\n",
      "I_1 = 0.010800283286118978\n",
      "I_2 = 0.0048689801699716715\n",
      "I_3 = 0.004868980169971672\n",
      "I_4 = 0.010800283286118982\n",
      "I_5 = 0.005931303116147309\n"
     ]
    }
   ],
   "source": [
    "coefficient_matrix = np.array([[100,330,0,1000,0,0],[0,-330,1000,0,0,-220],[0,0,0,-1000,330,220],[1,-1,-1,0,0,0],[0,1,0,-1,0,-1],[0,0,1,0,-1,1]])\n",
    "b = np.array([10,0,0,0,0,0])\n",
    "x = np.linalg.solve(coefficient_matrix, b)\n",
    "\n",
    "for i in range(len(x)):\n",
    "    print(f'I_{i} = {x[i]}')\n",
    "    #print(i)"
   ]
  },
  {
   "cell_type": "markdown",
   "metadata": {},
   "source": [
    "## Part 2 - The line of resistors - A model of heat conduction\n",
    "\n",
    "### Calculating resistance for different chain lengths"
   ]
  },
  {
   "cell_type": "code",
   "execution_count": 22,
   "metadata": {},
   "outputs": [
    {
     "name": "stdout",
     "output_type": "stream",
     "text": [
      "Number of links | Chain resistance\n",
      "----------------------------------\n",
      "        0       | 1100 kOhm\n",
      "        1       | 623.8095238095239 kOhm\n",
      "        2       | 484.1642228739003 kOhm\n",
      "        3       | 426.22011460185735 kOhm\n"
     ]
    }
   ],
   "source": [
    "# Resistances\n",
    "R_1 = 100  # k Ohm\n",
    "R_2 = 1000 # k Ohm\n",
    "\n",
    "# Number of links in chain\n",
    "N = 4\n",
    "\n",
    "# Calculating resistance for chain of one link\n",
    "R_eq1 = R_1 + R_2\n",
    "\n",
    "# Calculate resistances for longer chain\n",
    "resistances = [R_eq1]\n",
    "R_eq_prev = R_eq1\n",
    "for i in range(N - 1):\n",
    "    R_eq_N = R_1 + 1 / (1 / R_2 + 1 / R_eq_prev)\n",
    "    R_eq_prev = R_eq_N\n",
    "    resistances.append(R_eq_N)\n",
    "\n",
    "# Print results\n",
    "print(\"Number of links | Chain resistance\")\n",
    "print(\"----------------------------------\")\n",
    "for i in range(len(resistances)):\n",
    "    print(f\"        {i}       | {resistances[i]} kOhm\")"
   ]
  },
  {
   "cell_type": "markdown",
   "metadata": {},
   "source": [
    "### Plotting resistance against number of links in chain"
   ]
  },
  {
   "cell_type": "code",
   "execution_count": 23,
   "metadata": {},
   "outputs": [
    {
     "data": {
      "image/png": "[encoded data removed]",
      "text/plain": [
       "<Figure size 432x288 with 1 Axes>"
      ]
     },
     "metadata": {
      "needs_background": "light"
     },
     "output_type": "display_data"
    }
   ],
   "source": [
    "# Resistances\n",
    "R_1 = 100  # k ohm\n",
    "R_2 = 1000  # k ohm\n",
    "\n",
    "# Number of links\n",
    "N = 10\n",
    "links = np.arange(1, N + 1, 1)\n",
    "# print(links)\n",
    "\n",
    "# Resistance for one link\n",
    "R_tot_1 = R_1 + R_2\n",
    "# print(R_tot_1)\n",
    "\n",
    "# Computing resistances for several links\n",
    "R_tot_array = [R_tot_1]\n",
    "R_tot_prev = R_tot_1\n",
    "for i in range(N - 1):\n",
    "    R_tot_N = R_1 + 1 / (1 / R_2 + 1 / R_tot_prev)\n",
    "    R_tot_prev = R_tot_N\n",
    "    # print(R_tot_N)\n",
    "    R_tot_array.append(R_tot_N)\n",
    "\n",
    "# Plot resistance against number of links\n",
    "plt.plot(links, R_tot_array, 'o', color='orange')\n",
    "plt.xlabel('Number of links')\n",
    "plt.ylabel('Total resistance')\n",
    "plt.show()"
   ]
  },
  {
   "cell_type": "code",
   "execution_count": null,
   "metadata": {},
   "outputs": [],
   "source": []
  }
 ],
 "metadata": {
  "kernelspec": {
   "display_name": "Python 3",
   "language": "python",
   "name": "python3"
  },
  "language_info": {
   "codemirror_mode": {
    "name": "ipython",
    "version": 3
   },
   "file_extension": ".py",
   "mimetype": "text/x-python",
   "name": "python",
   "nbconvert_exporter": "python",
   "pygments_lexer": "ipython3",
   "version": "3.7.3"
  }
 },
 "nbformat": 4,
 "nbformat_minor": 2
}
