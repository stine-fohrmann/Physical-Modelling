{
 "cells": [
  {
   "cell_type": "markdown",
   "metadata": {},
   "source": [
    "# Code for Experiment 3 - Maxwell Model"
   ]
  },
  {
   "cell_type": "code",
   "execution_count": 1,
   "metadata": {},
   "outputs": [],
   "source": [
    "# dependencies\n",
    "import matplotlib.pyplot as plt\n",
    "import numpy as np"
   ]
  },
  {
   "cell_type": "markdown",
   "metadata": {},
   "source": [
    "## Data"
   ]
  },
  {
   "cell_type": "code",
   "execution_count": 6,
   "metadata": {},
   "outputs": [],
   "source": [
    "U = 5 # V\n",
    "R = 1000 # ohm\n",
    "\n",
    "# Measurements\n",
    "# f (Hz), U_0 (V), V_0 (V), T (ms), phi_Z (°)\n",
    "data = np.array([\n",
    "    [100000,4.8,4.6,0.01,-07.2],\n",
    "    [10000,4.9,2.8,0.1,-47.3],\n",
    "    [2000,5.0,0.8,0.5,-48.7],\n",
    "    [1500,5.0,0.7,0.672,-42.8],\n",
    "    [1000,5.0,0.6,1.0,-33.4],\n",
    "    [500,5.1,0.5,2.0,-18.8],\n",
    "    [100,5.1,0.5,10,-04.0],\n",
    "    [50,5.1,0.5,20,-02.3]\n",
    "])\n",
    "\n",
    "f     = data[:,0] # in Hz\n",
    "U_0   = data[:,1] # in V\n",
    "V_0   = data[:,2] # in V\n",
    "T     = data[:,3] # in ms\n",
    "T     = [element * 10 ** -3 for element in T]  # convert to s\n",
    "phi_Z = data[:,4] # in °\n"
   ]
  },
  {
   "cell_type": "markdown",
   "metadata": {},
   "source": [
    "## Data Analysis"
   ]
  },
  {
   "cell_type": "code",
   "execution_count": 18,
   "metadata": {},
   "outputs": [
    {
     "data": {
      "image/png": "[encoded data removed]",
      "text/plain": [
       "<Figure size 432x288 with 4 Axes>"
      ]
     },
     "metadata": {
      "needs_background": "light"
     },
     "output_type": "display_data"
    }
   ],
   "source": [
    "# Complex unit\n",
    "i = 1j\n",
    "\n",
    "# Calculate circular velocity\n",
    "omega = [2 * np.pi * f for f in f]\n",
    "\n",
    "# Function for calculating impedance\n",
    "def calculateImpedance(U_0, V_0, phi_Z):\n",
    "    Z_hat = (U_0 / V_0 * np.exp(i * phi_Z) - 1) * R\n",
    "    return Z_hat\n",
    "\n",
    "# Calculate impedance\n",
    "Z_hat = [calculateImpedance(U_0, V_0, phi_Z) for U_0, V_0, phi_Z in zip(U_0, V_0, phi_Z)]\n",
    "Z_hat_norm = [np.abs(z) for z in Z_hat] # get norm of Z_hat\n",
    "Z_hat_real = [z.real for z in Z_hat]      # get real part of Z_hat\n",
    "Z_hat_im = [z.imag for z in Z_hat]        # get imaginary part of Z_hat\n",
    "\n",
    "# Plot\n",
    "fig, axs = plt.subplots(2, 2)\n",
    "axs[0, 0].loglog(omega, Z_hat_norm, '.', color='orange')\n",
    "axs[0, 0].set_title('Norm')\n",
    "axs[0, 0].set_xlabel(r'$\\log{\\omega}$')\n",
    "axs[0, 0].set_ylabel(r'$\\log\\left(|Z_L|\\right)$')\n",
    "\n",
    "axs[0, 1].semilogx(omega, phi_Z, '.', color='orange')\n",
    "#axs[0, 1].axhline(y = np.pi/2, color = 'r', linestyle = '-', label=r'$\\frac{\\pi}{2}$')\n",
    "axs[0, 1].set_title('Phase shift')\n",
    "#axs[0, 1].set_ylim([0, 3])\n",
    "axs[0, 1].set_ylabel('$\\phi_Z$')\n",
    "axs[0, 1].set_xlabel('$\\log{\\omega}$')\n",
    "#axs[0, 1].legend(loc='upper right')\n",
    "\n",
    "axs[1, 0].semilogx(omega, Z_hat_real, '.', color='orange')\n",
    "axs[1, 0].set_title('Real part')\n",
    "axs[1, 0].set_xlabel(r'$\\log{\\omega}$')\n",
    "axs[1, 0].set_ylabel('Z\\'')\n",
    "\n",
    "axs[1, 1].loglog(omega, Z_hat_im, '.', color='orange')\n",
    "axs[1, 1].set_title('Imaginary part')\n",
    "axs[1, 1].set_xlabel(r'$\\log{\\omega}$')\n",
    "axs[1, 1].set_ylabel('log Z\\'\\'')\n",
    "\n",
    "plt.tight_layout()\n",
    "#plt.rcParams[\"figure.figsize\"]=10,10\n",
    "plt.show()"
   ]
  },
  {
   "cell_type": "code",
   "execution_count": null,
   "metadata": {},
   "outputs": [],
   "source": []
  }
 ],
 "metadata": {
  "kernelspec": {
   "display_name": "Python 3",
   "language": "python",
   "name": "python3"
  },
  "language_info": {
   "codemirror_mode": {
    "name": "ipython",
    "version": 3
   },
   "file_extension": ".py",
   "mimetype": "text/x-python",
   "name": "python",
   "nbconvert_exporter": "python",
   "pygments_lexer": "ipython3",
   "version": "3.7.3"
  }
 },
 "nbformat": 4,
 "nbformat_minor": 2
}
